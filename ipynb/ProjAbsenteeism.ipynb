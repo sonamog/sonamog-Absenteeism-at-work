{
 "cells": [
  {
   "cell_type": "markdown",
   "metadata": {},
   "source": [
    "# Absenteeism Prediction"
   ]
  },
  {
   "cell_type": "code",
   "execution_count": null,
   "metadata": {},
   "outputs": [],
   "source": [
    "%config IPCompleter.greedy=True"
   ]
  },
  {
   "cell_type": "code",
   "execution_count": null,
   "metadata": {},
   "outputs": [],
   "source": [
    "import pandas as pd\n",
    "import numpy as np\n",
    "from sklearn.model_selection import train_test_split\n",
    "from sklearn import preprocessing\n",
    "from sklearn.preprocessing import StandardScaler\n",
    "from scipy import stats\n",
    "\n",
    "import matplotlib.pyplot as plt\n",
    "import seaborn as sns\n",
    "%matplotlib inline"
   ]
  },
  {
   "cell_type": "code",
   "execution_count": null,
   "metadata": {},
   "outputs": [],
   "source": [
    "rawAbsenteeism = pd.read_csv(\"Absenteeism_at_work_train.csv\")\n",
    "print(rawAbsenteeism.shape)\n",
    "rawAbsenteeism.info()"
   ]
  },
  {
   "cell_type": "markdown",
   "metadata": {},
   "source": [
    "It appears that there are 666 observations of 21 variables. Two variables (Weight and Hit Target) have less than 666 records, indicating the presence of missing values."
   ]
  },
  {
   "cell_type": "code",
   "execution_count": null,
   "metadata": {},
   "outputs": [],
   "source": [
    "# Resolving conflicts with Age\n",
    "rawAbsenteeism['Age']  = pd.to_numeric(rawAbsenteeism['Age'] , errors='coerce')\n",
    "rawAbsenteeism['Age'] = rawAbsenteeism['Age'].replace(np.nan, 0, regex=True)\n",
    "rawAbsenteeism['Age'] = rawAbsenteeism['Age'].astype('int64')\n",
    "rawAbsenteeism['Age'].replace(0, np.nan, inplace=True)"
   ]
  },
  {
   "cell_type": "code",
   "execution_count": null,
   "metadata": {},
   "outputs": [],
   "source": [
    "rawAbsenteeism['Work load Average/day '] = rawAbsenteeism['Work load Average/day '].str.replace(',', '').astype(float)"
   ]
  },
  {
   "cell_type": "markdown",
   "metadata": {},
   "source": [
    " ##  Pre-processing "
   ]
  },
  {
   "cell_type": "code",
   "execution_count": null,
   "metadata": {},
   "outputs": [],
   "source": [
    "# Dropping Duplicates if any to keep only unique values\n",
    "rawAbsenteeism = rawAbsenteeism.drop_duplicates(keep='first')\n",
    "print(rawAbsenteeism.shape)\n"
   ]
  },
  {
   "cell_type": "markdown",
   "metadata": {},
   "source": [
    "I removed the 27 duplicates from the dataset.  "
   ]
  },
  {
   "cell_type": "markdown",
   "metadata": {},
   "source": [
    "I noticed the variable \"Reason for absence\" has a minimum value of 0 when the minimum value should be 1 to represent Certain infectious and parasitic diseases"
   ]
  },
  {
   "cell_type": "code",
   "execution_count": null,
   "metadata": {},
   "outputs": [],
   "source": [
    "for i in range(rawAbsenteeism.shape[0]): \n",
    "    if rawAbsenteeism[\"Reason for absence\"].iloc[i] == 0.0:\n",
    "        rawAbsenteeism[\"Reason for absence\"].iloc[i] = np.nan\n",
    "        \n",
    "rawAbsenteeism[\"Reason for absence\"].describe()\n"
   ]
  },
  {
   "cell_type": "code",
   "execution_count": null,
   "metadata": {},
   "outputs": [],
   "source": [
    "# Missing Values\n",
    "print(\"Missing values: Before\")\n",
    "rawAbsenteeism.isnull().sum() * 100 / len(rawAbsenteeism)"
   ]
  },
  {
   "cell_type": "code",
   "execution_count": null,
   "metadata": {},
   "outputs": [],
   "source": [
    "# Resolving missing values with mode substitution \n",
    "# based on 5% threshold\n",
    "rawAbsenteeism[\"Reason for absence\"] = rawAbsenteeism[\"Reason for absence\"].fillna(rawAbsenteeism[\"Reason for absence\"].\n",
    "                                                                                   mode().iloc[0])\n",
    "# Deleting the missing values in remaining variables\n",
    "rawAbsenteeism= rawAbsenteeism.dropna()\n"
   ]
  },
  {
   "cell_type": "code",
   "execution_count": null,
   "metadata": {},
   "outputs": [],
   "source": [
    "# Missing Values\n",
    "print(\"Missing values: After\")\n",
    "print(rawAbsenteeism.isnull().sum())\n",
    "\n",
    "print(\"Shape of dataset:\", rawAbsenteeism.shape)"
   ]
  },
  {
   "cell_type": "code",
   "execution_count": null,
   "metadata": {},
   "outputs": [],
   "source": [
    "# Transform feature's data type\n",
    "rawAbsenteeism[\"Reason for absence\"] = rawAbsenteeism[\"Reason for absence\"].astype(\"category\")\n",
    "rawAbsenteeism[\"Month of absence\"] = rawAbsenteeism[\"Month of absence\"].astype(\"category\")\n",
    "rawAbsenteeism[\"Day of the week\"] = rawAbsenteeism[\"Day of the week\"].astype(\"category\")\n",
    "rawAbsenteeism[\"Seasons\"] = rawAbsenteeism[\"Seasons\"].astype(\"category\")\n",
    "rawAbsenteeism[\"Disciplinary failure\"]=rawAbsenteeism[\"Disciplinary failure\"].astype(\"category\")\n",
    "rawAbsenteeism[\"Education\"] = rawAbsenteeism[\"Education\"].astype(\"category\")\n",
    "rawAbsenteeism[\"Social drinker\"] = rawAbsenteeism[\"Social drinker\"].astype(\"category\")\n",
    "rawAbsenteeism[\"Social smoker\"] = rawAbsenteeism[\"Social smoker\"].astype(\"category\")\n",
    "\n",
    "rawAbsenteeism.info()"
   ]
  },
  {
   "cell_type": "code",
   "execution_count": null,
   "metadata": {},
   "outputs": [],
   "source": [
    "rawAbsenteeism.columns = rawAbsenteeism.columns.str.replace('/', ' per ').str.strip()"
   ]
  },
  {
   "cell_type": "code",
   "execution_count": null,
   "metadata": {},
   "outputs": [],
   "source": [
    "non_numrawAbsenteeism = rawAbsenteeism.drop(['Reason for absence', 'Month of absence', 'Day of the week', 'Seasons', 'Disciplinary failure', \n",
    "                   'Education', 'Social drinker', 'Social smoker'], axis=1)\n",
    "\n",
    "non_numrawAbsenteeism.info()"
   ]
  },
  {
   "cell_type": "code",
   "execution_count": null,
   "metadata": {},
   "outputs": [],
   "source": [
    "# Detecting and removing Outliers\n",
    "AbsenteeismOutlier = rawAbsenteeism[(np.abs(stats.zscore(non_numrawAbsenteeism)) < 3).all(axis=1)] \n",
    "AbsenteeismOutlier.describe()\n",
    "print(rawAbsenteeism.shape[0]-AbsenteeismOutlier.shape[0])"
   ]
  },
  {
   "cell_type": "code",
   "execution_count": null,
   "metadata": {},
   "outputs": [],
   "source": [
    "# saving the cleaned dataset\n",
    "rawAbsenteeism.to_csv('CleanedAbsenteeism_DF.csv')\n",
    "\n",
    "Testsample = rawAbsenteeism.copy()"
   ]
  },
  {
   "cell_type": "code",
   "execution_count": null,
   "metadata": {},
   "outputs": [],
   "source": [
    "# Grouping variables and storing into two categories: Categorical and Continous \n",
    "catvariables = ['Reason for absence', 'Month of absence', 'Day of the week', 'Seasons', 'Disciplinary failure', \n",
    "                   'Education', 'Social drinker', 'Social smoker']\n",
    "\n",
    "contVariables = ['Transportation expense', 'Distance from Residence to Work', \n",
    "                 'Service time', 'Age', 'Work load Average per day', 'Hit target', 'Son', 'Pet', 'Weight', 'Height', \n",
    "                 'Body mass index']"
   ]
  },
  {
   "cell_type": "code",
   "execution_count": null,
   "metadata": {},
   "outputs": [],
   "source": [
    "print(\"Before: \\n\")\n",
    "print(\"Maximum of Absenteeism time in hours is\", rawAbsenteeism['Absenteeism time in hours'].max(), \" while the mean value is \", \n",
    "      rawAbsenteeism['Absenteeism time in hours'].mean())\n",
    "for i in contVariables:\n",
    "    print(\"Maximum of\", i, \"is\", rawAbsenteeism[i].max(), \" while the mean value is \", rawAbsenteeism[i].mean())\n"
   ]
  },
  {
   "cell_type": "code",
   "execution_count": null,
   "metadata": {},
   "outputs": [],
   "source": [
    "# standardization\n",
    "for i in contVariables:\n",
    "     rawAbsenteeism[i] = preprocessing.scale(rawAbsenteeism[i])\n",
    "    "
   ]
  },
  {
   "cell_type": "code",
   "execution_count": null,
   "metadata": {},
   "outputs": [],
   "source": [
    "print(\"After scaling: \\n\")\n",
    "print(\"Maximum of Absenteeism time in hours is\", rawAbsenteeism['Absenteeism time in hours'].max(), \" while the mean value is \", \n",
    "      rawAbsenteeism['Absenteeism time in hours'].mean())\n",
    "for i in contVariables:\n",
    "    print(\"Maximum of \", i, \"is\", rawAbsenteeism[i].max(), \" while the mean value is \", rawAbsenteeism[i].mean())"
   ]
  },
  {
   "cell_type": "markdown",
   "metadata": {},
   "source": [
    "## Exploratory Data Analysis"
   ]
  },
  {
   "cell_type": "markdown",
   "metadata": {},
   "source": [
    "This dataset only shows the absent hous of the employees for the period"
   ]
  },
  {
   "cell_type": "code",
   "execution_count": null,
   "metadata": {},
   "outputs": [],
   "source": [
    "with sns.axes_style(style='whitegrid'):\n",
    "    boxplotTarget = sns.catplot(\"Day of the week\", \"Absenteeism time in hours\", \"Seasons\", data=rawAbsenteeism, kind=\"box\")\n",
    "    boxplotTarget.set_axis_labels(\"Day\", \" Absenteeism time in hours\");"
   ]
  },
  {
   "cell_type": "code",
   "execution_count": null,
   "metadata": {},
   "outputs": [],
   "source": [
    "sns.set_style(\"ticks\")\n",
    "sns.catplot(data=rawAbsenteeism, x='Reason for absence', kind= 'count',height=3,aspect=3)\n",
    "sns.catplot(data=rawAbsenteeism, x='Social drinker', kind= 'count',height=3,aspect=2)\n",
    "sns.catplot(data=rawAbsenteeism, x='Disciplinary failure', kind= 'count',height=3,aspect=2)"
   ]
  },
  {
   "cell_type": "code",
   "execution_count": null,
   "metadata": {},
   "outputs": [],
   "source": [
    "fig, ax = plt.subplots(figsize=(10,8))\n",
    "ax.scatter(rawAbsenteeism[\"Age\"], rawAbsenteeism['Absenteeism time in hours'])\n",
    "ax.set_xlabel('Proportion of Age')\n",
    "ax.set_ylabel('Full-value Absenteeism time in hours')\n",
    "plt.show()"
   ]
  },
  {
   "cell_type": "code",
   "execution_count": null,
   "metadata": {},
   "outputs": [],
   "source": [
    "plt.rcParams[\"figure.figsize\"] = (20,20)\n",
    "rawAbsenteeism.hist()\n",
    "plt.show()"
   ]
  },
  {
   "cell_type": "code",
   "execution_count": null,
   "metadata": {},
   "outputs": [],
   "source": [
    "from scipy.stats import norm\n",
    "mu = rawAbsenteeism[\"Absenteeism time in hours\"].mean()\n",
    "sigma = rawAbsenteeism[\"Absenteeism time in hours\"].std()\n",
    "x = np.linspace(mu-3*sigma, mu+3*sigma, 100)\n",
    "\n",
    "fig= plt.figure(figsize=(5,5))\n",
    "plt.axvline(x=mu, color='r')\n",
    "plt.plot(x, norm.pdf(x,mu,sigma))\n",
    "plt.hist(rawAbsenteeism[\"Absenteeism time in hours\"], color='yellow', density=True, bins=50)\n",
    "plt.title('Distribution of absenteeism hours')\n",
    "plt.xlabel('hours')\n",
    "plt.ylabel('density of absent hours')\n",
    "plt.show()"
   ]
  },
  {
   "cell_type": "code",
   "execution_count": null,
   "metadata": {},
   "outputs": [],
   "source": [
    "# Creating a copy of cleaned dataset for modeling \n",
    "CatYAbsenteeism_DF = rawAbsenteeism.copy()\n"
   ]
  },
  {
   "cell_type": "markdown",
   "metadata": {},
   "source": [
    "## Transforming target variable to categorical type to fulfill task 1"
   ]
  },
  {
   "cell_type": "code",
   "execution_count": null,
   "metadata": {},
   "outputs": [],
   "source": [
    "#Transforming target variable to categorical to fulfill task 1\n",
    "CatYAbsenteeism_DF.loc[CatYAbsenteeism_DF['Absenteeism time in hours'] == 0, 'Absenteeism time in hours'] = 0\n",
    "CatYAbsenteeism_DF.loc[(CatYAbsenteeism_DF['Absenteeism time in hours'] > 0) & \n",
    "                       (CatYAbsenteeism_DF['Absenteeism time in hours'] <= 6), 'Absenteeism time in hours'] = 1\n",
    "CatYAbsenteeism_DF.loc[CatYAbsenteeism_DF['Absenteeism time in hours'] > 6, 'Absenteeism time in hours'] = 2"
   ]
  },
  {
   "cell_type": "code",
   "execution_count": null,
   "metadata": {},
   "outputs": [],
   "source": [
    "CatYAbsenteeism_DF['Absenteeism time in hours'] = CatYAbsenteeism_DF['Absenteeism time in hours'].astype('category') # factored\n",
    "target_AbsentHours = CatYAbsenteeism_DF['Absenteeism time in hours']\n",
    "print(target_AbsentHours.value_counts().sort_values(ascending=True))\n",
    "\n"
   ]
  },
  {
   "cell_type": "markdown",
   "metadata": {},
   "source": [
    "## Feature Selection"
   ]
  },
  {
   "cell_type": "code",
   "execution_count": null,
   "metadata": {},
   "outputs": [],
   "source": [
    "CatYAbsenteeism_DF[contVariables]"
   ]
  },
  {
   "cell_type": "code",
   "execution_count": null,
   "metadata": {},
   "outputs": [],
   "source": [
    "corr_df = CatYAbsenteeism_DF[contVariables]\n",
    "\n",
    "corr = corr_df.corr()\n",
    "fig = plt.figure()\n",
    "ax = fig.add_subplot(111)\n",
    "cax = ax.matshow(corr,cmap='coolwarm', vmin=-1, vmax=1)\n",
    "fig.colorbar(cax)\n",
    "ticks = np.arange(0,len(corr_df.columns),1)\n",
    "ax.set_xticks(ticks)\n",
    "plt.xticks(rotation=90)\n",
    "ax.set_yticks(ticks)\n",
    "ax.set_xticklabels(corr_df.columns)\n",
    "ax.set_yticklabels(corr_df.columns)\n",
    "plt.show()\n"
   ]
  },
  {
   "cell_type": "code",
   "execution_count": null,
   "metadata": {},
   "outputs": [],
   "source": [
    "# Create correlation matrix\n",
    "X = CatYAbsenteeism_DF.drop(['Absenteeism time in hours'], axis=1)\n",
    "\n",
    "corr_matrix = X.corr().abs()\n",
    "\n",
    "# Select upper triangle of correlation matrix\n",
    "upper = corr_matrix.where(np.triu(np.ones(corr_matrix.shape),\n",
    "k=1).astype(np.bool))\n",
    "\n",
    "# Find index of feature columns with correlation greater than 0.60\n",
    "to_drop = [column for column in upper.columns if any(upper[column] > 0.6)]\n",
    "\n",
    "print(\"These variables didnt qualify:\", to_drop)\n",
    "Xnew = X.drop(to_drop, axis=1)\n"
   ]
  },
  {
   "cell_type": "code",
   "execution_count": null,
   "metadata": {},
   "outputs": [],
   "source": [
    "# using 75–25% ratio split\n",
    "X = CatYAbsenteeism_DF.drop(['ID','Absenteeism time in hours','Age', 'Body mass index'], axis=1)\n",
    "\n",
    "# removing age and body mass index\n",
    "removedcont = [3,10]\n",
    "contVariables=np.delete(contVariables, removedcont).tolist()"
   ]
  },
  {
   "cell_type": "code",
   "execution_count": null,
   "metadata": {},
   "outputs": [],
   "source": [
    "Standardscaler = StandardScaler()\n",
    "X[contVariables] = Standardscaler.fit_transform(X[contVariables])"
   ]
  },
  {
   "cell_type": "code",
   "execution_count": null,
   "metadata": {},
   "outputs": [],
   "source": [
    "X_train, X_test,y_train, y_test = train_test_split(X, target_AbsentHours, test_size=0.25, random_state= 123)\n",
    "\n",
    "print(\"training:\",len(X_train))\n",
    "print(\"testing:\",len(X_test))\n",
    "print()\n",
    "print(\"testing Class:\\n\", y_test.value_counts(normalize=True)*100)\n",
    "print()\n",
    "print(\"training Class:\\n\", y_train.value_counts(normalize=True)*100)\n"
   ]
  },
  {
   "cell_type": "markdown",
   "metadata": {},
   "source": [
    "## Training and Making Predictions"
   ]
  },
  {
   "cell_type": "code",
   "execution_count": null,
   "metadata": {},
   "outputs": [],
   "source": [
    "from sklearn import tree\n",
    "from sklearn.tree import DecisionTreeClassifier\n",
    "from sklearn.naive_bayes import GaussianNB\n",
    "from sklearn import svm\n",
    "from sklearn.metrics import confusion_matrix\n",
    "from sklearn.metrics import accuracy_score\n",
    "\n",
    "from IPython.display import SVG \n",
    "from graphviz import Source \n",
    "from IPython.display import display\n",
    "from sklearn.metrics import classification_report"
   ]
  },
  {
   "cell_type": "code",
   "execution_count": null,
   "metadata": {},
   "outputs": [],
   "source": [
    "# Decision Tree\n",
    "# Training a model on the data\n",
    "treemodel = DecisionTreeClassifier() \n",
    "treemodel = treemodel.fit(X_train, y_train)\n",
    "print(treemodel)"
   ]
  },
  {
   "cell_type": "code",
   "execution_count": null,
   "metadata": {},
   "outputs": [],
   "source": [
    "# visualize model \n",
    "graph = Source(tree.export_graphviz(treemodel, \n",
    "                                    out_file=None, \n",
    "                                    feature_names=X_train.columns,\n",
    "                                    class_names=['0', '1', '2'],\n",
    "                                    filled = True) )\n",
    "display(SVG(graph.pipe(format='svg')))\n",
    "\n",
    "graph.format = 'png'\n",
    "graph.render('tree_Absenteeism',view=True)\n"
   ]
  },
  {
   "cell_type": "code",
   "execution_count": null,
   "metadata": {},
   "outputs": [],
   "source": [
    "# Evaluating Model Performance\n",
    "tree_predict = treemodel.predict(X_test) \n",
    "\n",
    "print(\"Decision Tree: \\n\")\n",
    "print(\"Confusion matrix:\\n\", confusion_matrix(y_test, tree_predict)) \n",
    "treeScore = accuracy_score(y_test, tree_predict)*100\n",
    "print(\"Predictive Accuracy score:\", treeScore)\n",
    "\n",
    "print(\"Classification Report: \\n\", classification_report(y_test, tree_predict, labels=np.unique(tree_predict)))\n"
   ]
  },
  {
   "cell_type": "code",
   "execution_count": null,
   "metadata": {},
   "outputs": [],
   "source": [
    "# Naive Bayes\n",
    "gnb = GaussianNB()\n",
    "gnb_model = gnb.fit(X_train, y_train)\n",
    "\n",
    "naive_predict=gnb_model.predict(X_test)\n",
    "\n",
    "print(\"Naive Bayes: \\n\")\n",
    "print(\"Confusion matrix:\\n\",confusion_matrix(y_test, naive_predict))\n",
    "naivebayesScore = accuracy_score(y_test, naive_predict)*100\n",
    "print(\"Predictive Accuracy score:\",naivebayesScore) "
   ]
  },
  {
   "cell_type": "code",
   "execution_count": null,
   "metadata": {},
   "outputs": [],
   "source": [
    "# SVM - Polynomial\n",
    "clf = svm.SVC(kernel='poly', degree=3)\n",
    "clf.fit(X_train, y_train)\n",
    "\n",
    "# Test result\n",
    "poly_predict = clf.predict(X_test)\n",
    "\n",
    "print(\"SVM - Polynomial: \\n\")\n",
    "print(\"Confusion Matrix:\", confusion_matrix(y_test, poly_predict))\n",
    "polynomialScore = accuracy_score(y_test, poly_predict)*100\n",
    "print(\"Accuracy Score:\", polynomialScore)"
   ]
  },
  {
   "cell_type": "code",
   "execution_count": null,
   "metadata": {},
   "outputs": [],
   "source": [
    "# SVM - RBF\n",
    "clf = svm.SVC(kernel='rbf', gamma=.3)\n",
    "clf.fit(X_train, y_train)\n",
    "\n",
    "# Test result\n",
    "svmrbf_predict = clf.predict(X_test)\n",
    "\n",
    "print(\"SVM - RBF: \\n\")\n",
    "print(\"Confusion Matrix:\", confusion_matrix(y_test, svmrbf_predict))\n",
    "rbfScore = accuracy_score(y_test, svmrbf_predict)*100\n",
    "print(\"Accuracy Score:\", rbfScore)"
   ]
  },
  {
   "cell_type": "markdown",
   "metadata": {},
   "source": [
    "**Visual representation of Accuracy scores among models:**"
   ]
  },
  {
   "cell_type": "code",
   "execution_count": null,
   "metadata": {},
   "outputs": [],
   "source": [
    "dataScore = {'Model_name':['Decision Tree', 'Naive Bayes', 'SVM_Polynomial', 'SVM_RBF'],  \n",
    "             'Accuracy_Score':[treeScore, naivebayesScore, polynomialScore, rbfScore]} \n",
    "  \n",
    "df_Score = pd.DataFrame(dataScore) \n",
    "  \n",
    "# display dataframe\n",
    "df_Score.head()"
   ]
  },
  {
   "cell_type": "code",
   "execution_count": null,
   "metadata": {},
   "outputs": [],
   "source": [
    "import matplotlib.ticker as mtick\n",
    "\n",
    "plt.figure(figsize=(10,8))\n",
    "sns.set_style(\"whitegrid\", {'axes.grid' : False})\n",
    "accuracyplot = sns.barplot(x='Model_name', y='Accuracy_Score', data=df_Score)\n",
    "accuracyplot.yaxis.set_major_formatter(mtick.PercentFormatter())\n",
    "for p in accuracyplot.patches:\n",
    "    accuracyplot.annotate('{:.2f}%'.format(p.get_height()),\n",
    "                          (p.get_x() + p.get_width() / 2, p.get_height()),\n",
    "                          ha = 'center', va = 'center', xytext = (0, 10), \n",
    "                          textcoords = 'offset points')\n",
    "accuracyplot.set(xlabel=\"Model\", ylabel=\"Accuracy Score\",title=\"Bar graph showing the accuracy score for model\")"
   ]
  },
  {
   "cell_type": "code",
   "execution_count": null,
   "metadata": {},
   "outputs": [],
   "source": []
  }
 ],
 "metadata": {
  "kernelspec": {
   "display_name": "Python 3",
   "language": "python",
   "name": "python3"
  },
  "language_info": {
   "codemirror_mode": {
    "name": "ipython",
    "version": 3
   },
   "file_extension": ".py",
   "mimetype": "text/x-python",
   "name": "python",
   "nbconvert_exporter": "python",
   "pygments_lexer": "ipython3",
   "version": "3.7.6"
  }
 },
 "nbformat": 4,
 "nbformat_minor": 4
}
